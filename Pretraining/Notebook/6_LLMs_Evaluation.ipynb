{
 "cells": [
  {
   "cell_type": "markdown",
   "id": "ae2a8fff-4124-4c6d-9258-c05657ec01c8",
   "metadata": {},
   "source": [
    "# Lesson 6. Model evaluation\n",
    "\n",
    "The model comparison tool that Sung described in the video can be found at this link: https://console.upstage.ai/ (note that you need to create a free account to try it out.)\n",
    "\n",
    "A useful tool for evaluating LLMs is the **LM Evaluation Harness** built by EleutherAI. Information about the harness can be found at this [github repo](https://github.com/EleutherAI/lm-evaluation-harness):\n",
    "\n",
    "You can run the commented code below to install the evaluation harness in your own environment:"
   ]
  },
  {
   "cell_type": "code",
   "execution_count": 2,
   "id": "b31fbf66-c7d5-4323-8f8a-acda7a12f66b",
   "metadata": {
    "height": 30
   },
   "outputs": [
    {
     "name": "stdout",
     "output_type": "stream",
     "text": [
      "/usr/bin/sh: 1: pip: not found\r\n"
     ]
    }
   ],
   "source": [
    "#!pip install -U git+https://github.com/EleutherAI/lm-evaluation-harness"
   ]
  },
  {
   "cell_type": "markdown",
   "id": "ac0b1cfc",
   "metadata": {},
   "source": [
    "You will evaluate TinySolar-248m-4k on 5 questions from the **TruthfulQA MC2 task**. This is a multiple-choice question answering task that tests the model's ability to identify true statements. You can read more about the TruthfulQA benchmark in [this paper](https://arxiv.org/abs/2109.07958), and you can checkout the code for implementing the tasks at this [github repo](https://github.com/sylinrl/TruthfulQA).\n",
    "\n",
    "The code below runs only the TruthfulQA MC2 task using the LM Evaluation Harness:"
   ]
  },
  {
   "cell_type": "code",
   "execution_count": 3,
   "id": "55c2c258-98de-43c7-9b96-cce7a6f20024",
   "metadata": {
    "height": 98
   },
   "outputs": [
    {
     "name": "stdout",
     "output_type": "stream",
     "text": [
      "2024-09-19:02:23:28,174 INFO     [__main__.py:272] Verbosity set to INFO\n",
      "2024-09-19:02:23:28,222 INFO     [__init__.py:491] `group` and `group_alias` keys in tasks' configs will no longer be used in the next release of lm-eval. `tag` will be used to allow to call a collection of tasks just like `group`. `group` will be removed in order to not cause confusion with the new ConfigurableGroup which will be the offical way to create groups with addition of group-wide configuations.\n",
      "2024-09-19:02:23:34,423 WARNING  [__main__.py:312]  --limit SHOULD ONLY BE USED FOR TESTING.REAL METRICS SHOULD NOT BE COMPUTED USING LIMIT.\n",
      "2024-09-19:02:23:34,424 INFO     [__main__.py:376] Selected Tasks: ['truthfulqa_mc2']\n",
      "2024-09-19:02:23:34,427 INFO     [evaluator.py:158] Setting random seed to 0 | Setting numpy seed to 1234 | Setting torch manual seed to 1234\n",
      "2024-09-19:02:23:34,427 INFO     [evaluator.py:195] Initializing hf model, with arguments: {'pretrained': './models/TinySolar-248m-4k'}\n",
      "2024-09-19:02:23:34,429 INFO     [huggingface.py:130] Using device 'cpu'\n",
      "2024-09-19:02:23:34,549 INFO     [huggingface.py:366] Model parallel was set to False, max memory was not set, and device map was set to {'': 'cpu'}\n",
      "Downloading readme: 100%|██████████████████| 9.59k/9.59k [00:00<00:00, 41.2MB/s]\n",
      "Downloading data: 100%|██████████████████████| 271k/271k [00:00<00:00, 1.48MB/s]\n",
      "Generating validation split: 100%|██| 817/817 [00:00<00:00, 20138.97 examples/s]\n",
      "2024-09-19:02:23:40,499 INFO     [evaluator.py:274] Setting fewshot random generator seed to 1234\n",
      "2024-09-19:02:23:40,501 INFO     [task.py:423] Building contexts for truthfulqa_mc2 on rank 0...\n",
      "100%|███████████████████████████████████████████| 5/5 [00:00<00:00, 1005.44it/s]\n",
      "2024-09-19:02:23:40,507 INFO     [evaluator.py:457] Running loglikelihood requests\n",
      "Running loglikelihood requests: 100%|███████████| 33/33 [00:27<00:00,  1.19it/s]\n",
      "2024-09-19:02:24:08,276 WARNING  [huggingface.py:1341] Failed to get model SHA for ./models/TinySolar-248m-4k at revision main. Error: Repo id must be in the form 'repo_name' or 'namespace/repo_name': './models/TinySolar-248m-4k'. Use `repo_type` argument if needed.\n",
      "fatal: not a git repository (or any of the parent directories): .git\n",
      "2024-09-19:02:24:09,437 INFO     [evaluation_tracker.py:269] Output path not provided, skipping saving results aggregated\n",
      "hf (pretrained=./models/TinySolar-248m-4k), gen_kwargs: (None), limit: 5.0, num_fewshot: None, batch_size: 1\n",
      "|    Tasks     |Version|Filter|n-shot|Metric|   |Value |   |Stderr|\n",
      "|--------------|------:|------|-----:|------|---|-----:|---|-----:|\n",
      "|truthfulqa_mc2|      2|none  |     0|acc   |↑  |0.4007|±  |0.2447|\n",
      "\n"
     ]
    }
   ],
   "source": [
    "!lm_eval --model hf \\\n",
    "    --model_args pretrained=./models/TinySolar-248m-4k \\\n",
    "    --tasks truthfulqa_mc2 \\\n",
    "    --device cpu \\\n",
    "    --limit 5"
   ]
  },
  {
   "cell_type": "markdown",
   "id": "cbeef916",
   "metadata": {},
   "source": [
    "### Evaluation for the Hugging Face Leaderboard\n",
    "You can use the code below to test your own model against the evaluations required for the [Hugging Face leaderboard](https://huggingface.co/open-llm-leaderboard). \n",
    "\n",
    "If you decide to run this evaluation on your own model, don't change the few-shot numbers below - they are set by the rules of the leaderboard."
   ]
  },
  {
   "cell_type": "code",
   "execution_count": null,
   "id": "7cc097be-7dbb-4a90-a954-f39d30e8e52c",
   "metadata": {
    "height": 404
   },
   "outputs": [
    {
     "name": "stderr",
     "output_type": "stream",
     "text": [
      "2024-09-19:02:25:25,846 INFO     [__main__.py:272] Verbosity set to INFO\n",
      "2024-09-19:02:25:25,878 INFO     [__init__.py:491] `group` and `group_alias` keys in tasks' configs will no longer be used in the next release of lm-eval. `tag` will be used to allow to call a collection of tasks just like `group`. `group` will be removed in order to not cause confusion with the new ConfigurableGroup which will be the offical way to create groups with addition of group-wide configuations.\n",
      "2024-09-19:02:25:30,356 INFO     [__main__.py:376] Selected Tasks: ['arc_challenge']\n",
      "2024-09-19:02:25:30,357 INFO     [evaluator.py:158] Setting random seed to 0 | Setting numpy seed to 1234 | Setting torch manual seed to 1234\n",
      "2024-09-19:02:25:30,357 INFO     [evaluator.py:195] Initializing hf model, with arguments: {'pretrained': 'upstage/TinySolar-248m-4k'}\n",
      "2024-09-19:02:25:30,359 INFO     [huggingface.py:130] Using device 'cpu'\n",
      "/usr/local/lib/python3.11/site-packages/huggingface_hub/file_download.py:1132: FutureWarning: `resume_download` is deprecated and will be removed in version 1.0.0. Downloads always resume when possible. If you want to force a new download, use `force_download=True`.\n",
      "  warnings.warn(\n",
      "2024-09-19:02:25:31,716 INFO     [huggingface.py:366] Model parallel was set to False, max memory was not set, and device map was set to {'': 'cpu'}\n",
      "Downloading readme: 100%|██████████| 9.00k/9.00k [00:00<00:00, 38.1MB/s]\n",
      "Downloading data: 100%|██████████| 190k/190k [00:00<00:00, 1.89MB/s]\n",
      "Downloading data: 100%|██████████| 204k/204k [00:00<00:00, 2.44MB/s]\n",
      "Downloading data: 100%|██████████| 55.7k/55.7k [00:00<00:00, 674kB/s]\n",
      "Generating train split: 100%|██████████| 1119/1119 [00:00<00:00, 293559.31 examples/s]\n",
      "Generating test split: 100%|██████████| 1172/1172 [00:00<00:00, 454024.59 examples/s]\n",
      "Generating validation split: 100%|██████████| 299/299 [00:00<00:00, 204050.91 examples/s]\n",
      "2024-09-19:02:25:37,601 WARNING  [evaluator.py:262] Overwriting default num_fewshot of arc_challenge from None to 25\n",
      "2024-09-19:02:25:37,601 INFO     [evaluator.py:274] Setting fewshot random generator seed to 1234\n",
      "2024-09-19:02:25:37,601 INFO     [task.py:423] Building contexts for arc_challenge on rank 0...\n",
      "100%|██████████| 1172/1172 [00:29<00:00, 40.34it/s]\n",
      "2024-09-19:02:26:06,699 INFO     [evaluator.py:457] Running loglikelihood requests\n",
      "Running loglikelihood requests:   0%|          | 7/4687 [00:41<7:32:27,  5.80s/it]"
     ]
    }
   ],
   "source": [
    "import os\n",
    "\n",
    "def h6_open_llm_leaderboard(model_name):\n",
    "  task_and_shot = [\n",
    "      ('arc_challenge', 25),\n",
    "      ('hellaswag', 10),\n",
    "      ('mmlu', 5),\n",
    "      ('truthfulqa_mc2', 0),\n",
    "      ('winogrande', 5),\n",
    "      ('gsm8k', 5)\n",
    "  ]\n",
    "\n",
    "  for task, fewshot in task_and_shot:\n",
    "    eval_cmd = f\"\"\"\n",
    "    lm_eval --model hf \\\n",
    "        --model_args pretrained={model_name} \\\n",
    "        --tasks {task} \\\n",
    "        --device cpu \\\n",
    "        --num_fewshot {fewshot}\n",
    "    \"\"\"\n",
    "    os.system(eval_cmd)\n",
    "\n",
    "h6_open_llm_leaderboard(model_name=\"upstage/TinySolar-248m-4k\")"
   ]
  }
 ],
 "metadata": {
  "kernelspec": {
   "display_name": "Python 3 (ipykernel)",
   "language": "python",
   "name": "python3"
  },
  "language_info": {
   "codemirror_mode": {
    "name": "ipython",
    "version": 3
   },
   "file_extension": ".py",
   "mimetype": "text/x-python",
   "name": "python",
   "nbconvert_exporter": "python",
   "pygments_lexer": "ipython3",
   "version": "3.11.9"
  }
 },
 "nbformat": 4,
 "nbformat_minor": 5
}
